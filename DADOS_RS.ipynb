{
 "cells": [
  {
   "cell_type": "code",
   "execution_count": 53,
   "metadata": {
    "collapsed": true
   },
   "outputs": [],
   "source": [
    "import pandas as pd\n",
    "import numpy as np"
   ]
  },
  {
   "cell_type": "code",
   "execution_count": 54,
   "metadata": {},
   "outputs": [
    {
     "data": {
      "text/html": [
       "<div>\n",
       "<table border=\"1\" class=\"dataframe\">\n",
       "  <thead>\n",
       "    <tr style=\"text-align: right;\">\n",
       "      <th></th>\n",
       "      <th>Unnamed: 0</th>\n",
       "      <th>X1</th>\n",
       "      <th>N_REMESSA</th>\n",
       "      <th>REGIAO</th>\n",
       "      <th>UF-MINICIPIO</th>\n",
       "      <th>AREA_ha</th>\n",
       "      <th>R$ ADICIONAL</th>\n",
       "      <th>R$ SINISTRO</th>\n",
       "      <th>R$_RISCO</th>\n",
       "      <th>N_SICOR</th>\n",
       "      <th>...</th>\n",
       "      <th>N_EVENTO</th>\n",
       "      <th>MESINI_EVENTO</th>\n",
       "      <th>ANOINI_EVENTO</th>\n",
       "      <th>MESFIM_EVENTO</th>\n",
       "      <th>ANOFIM_EVENTO</th>\n",
       "      <th>MESCOP</th>\n",
       "      <th>ANOCOP</th>\n",
       "      <th>Z</th>\n",
       "      <th>Latitude</th>\n",
       "      <th>Longitude</th>\n",
       "    </tr>\n",
       "  </thead>\n",
       "  <tbody>\n",
       "    <tr>\n",
       "      <th>0</th>\n",
       "      <td>1</td>\n",
       "      <td>280</td>\n",
       "      <td>PROAGRO_MAIS</td>\n",
       "      <td>SUL</td>\n",
       "      <td>AGUA SANTA</td>\n",
       "      <td>16.0</td>\n",
       "      <td>484.50</td>\n",
       "      <td>17766.89</td>\n",
       "      <td>24224.80</td>\n",
       "      <td>TRIGO</td>\n",
       "      <td>...</td>\n",
       "      <td>CHUVA EXCESSIVA</td>\n",
       "      <td>9</td>\n",
       "      <td>2014</td>\n",
       "      <td>10</td>\n",
       "      <td>2014</td>\n",
       "      <td>10</td>\n",
       "      <td>2014</td>\n",
       "      <td>0.733417</td>\n",
       "      <td>-28.17</td>\n",
       "      <td>-52.03</td>\n",
       "    </tr>\n",
       "    <tr>\n",
       "      <th>1</th>\n",
       "      <td>2</td>\n",
       "      <td>578</td>\n",
       "      <td>PROAGRO_MAIS</td>\n",
       "      <td>SUL</td>\n",
       "      <td>AGUA SANTA</td>\n",
       "      <td>15.0</td>\n",
       "      <td>319.91</td>\n",
       "      <td>9076.73</td>\n",
       "      <td>15995.70</td>\n",
       "      <td>TRIGO</td>\n",
       "      <td>...</td>\n",
       "      <td>CHUVA EXCESSIVA</td>\n",
       "      <td>9</td>\n",
       "      <td>2014</td>\n",
       "      <td>9</td>\n",
       "      <td>2014</td>\n",
       "      <td>11</td>\n",
       "      <td>2014</td>\n",
       "      <td>0.567448</td>\n",
       "      <td>-28.17</td>\n",
       "      <td>-52.03</td>\n",
       "    </tr>\n",
       "    <tr>\n",
       "      <th>2</th>\n",
       "      <td>3</td>\n",
       "      <td>1454</td>\n",
       "      <td>PROAGRO_MAIS</td>\n",
       "      <td>SUL</td>\n",
       "      <td>AGUDO</td>\n",
       "      <td>4.6</td>\n",
       "      <td>147.84</td>\n",
       "      <td>1774.09</td>\n",
       "      <td>7392.07</td>\n",
       "      <td>MILHO</td>\n",
       "      <td>...</td>\n",
       "      <td>GRANIZO</td>\n",
       "      <td>12</td>\n",
       "      <td>2014</td>\n",
       "      <td>12</td>\n",
       "      <td>2014</td>\n",
       "      <td>12</td>\n",
       "      <td>2014</td>\n",
       "      <td>0.239999</td>\n",
       "      <td>-29.64</td>\n",
       "      <td>-53.24</td>\n",
       "    </tr>\n",
       "    <tr>\n",
       "      <th>3</th>\n",
       "      <td>4</td>\n",
       "      <td>1603</td>\n",
       "      <td>PROAGRO_MAIS</td>\n",
       "      <td>SUL</td>\n",
       "      <td>AGUDO</td>\n",
       "      <td>8.0</td>\n",
       "      <td>235.44</td>\n",
       "      <td>354.04</td>\n",
       "      <td>23543.68</td>\n",
       "      <td>ARROZ</td>\n",
       "      <td>...</td>\n",
       "      <td>CHUVA EXCESSIVA</td>\n",
       "      <td>2</td>\n",
       "      <td>2015</td>\n",
       "      <td>2</td>\n",
       "      <td>2015</td>\n",
       "      <td>3</td>\n",
       "      <td>2015</td>\n",
       "      <td>0.015038</td>\n",
       "      <td>-29.64</td>\n",
       "      <td>-53.24</td>\n",
       "    </tr>\n",
       "    <tr>\n",
       "      <th>4</th>\n",
       "      <td>5</td>\n",
       "      <td>10</td>\n",
       "      <td>PROAGRO_MAIS</td>\n",
       "      <td>SUL</td>\n",
       "      <td>AJURICABA</td>\n",
       "      <td>32.0</td>\n",
       "      <td>1356.29</td>\n",
       "      <td>58102.77</td>\n",
       "      <td>67814.40</td>\n",
       "      <td>MILHO</td>\n",
       "      <td>...</td>\n",
       "      <td>SECA?????????????????????????????????????????</td>\n",
       "      <td>11</td>\n",
       "      <td>2014</td>\n",
       "      <td>12</td>\n",
       "      <td>2014</td>\n",
       "      <td>1</td>\n",
       "      <td>2015</td>\n",
       "      <td>0.856791</td>\n",
       "      <td>-28.23</td>\n",
       "      <td>-53.77</td>\n",
       "    </tr>\n",
       "  </tbody>\n",
       "</table>\n",
       "<p>5 rows × 32 columns</p>\n",
       "</div>"
      ],
      "text/plain": [
       "   Unnamed: 0    X1     N_REMESSA REGIAO UF-MINICIPIO  AREA_ha  R$ ADICIONAL  \\\n",
       "0           1   280  PROAGRO_MAIS    SUL   AGUA SANTA     16.0        484.50   \n",
       "1           2   578  PROAGRO_MAIS    SUL   AGUA SANTA     15.0        319.91   \n",
       "2           3  1454  PROAGRO_MAIS    SUL        AGUDO      4.6        147.84   \n",
       "3           4  1603  PROAGRO_MAIS    SUL        AGUDO      8.0        235.44   \n",
       "4           5    10  PROAGRO_MAIS    SUL    AJURICABA     32.0       1356.29   \n",
       "\n",
       "   R$ SINISTRO  R$_RISCO N_SICOR    ...      \\\n",
       "0     17766.89  24224.80   TRIGO    ...       \n",
       "1      9076.73  15995.70   TRIGO    ...       \n",
       "2      1774.09   7392.07   MILHO    ...       \n",
       "3       354.04  23543.68   ARROZ    ...       \n",
       "4     58102.77  67814.40   MILHO    ...       \n",
       "\n",
       "                                        N_EVENTO MESINI_EVENTO ANOINI_EVENTO  \\\n",
       "0                                CHUVA EXCESSIVA             9          2014   \n",
       "1                                CHUVA EXCESSIVA             9          2014   \n",
       "2                                        GRANIZO            12          2014   \n",
       "3                                CHUVA EXCESSIVA             2          2015   \n",
       "4  SECA?????????????????????????????????????????            11          2014   \n",
       "\n",
       "  MESFIM_EVENTO  ANOFIM_EVENTO  MESCOP  ANOCOP         Z  Latitude  Longitude  \n",
       "0            10           2014      10    2014  0.733417    -28.17     -52.03  \n",
       "1             9           2014      11    2014  0.567448    -28.17     -52.03  \n",
       "2            12           2014      12    2014  0.239999    -29.64     -53.24  \n",
       "3             2           2015       3    2015  0.015038    -29.64     -53.24  \n",
       "4            12           2014       1    2015  0.856791    -28.23     -53.77  \n",
       "\n",
       "[5 rows x 32 columns]"
      ]
     },
     "execution_count": 54,
     "metadata": {},
     "output_type": "execute_result"
    }
   ],
   "source": [
    "dados = pd.read_csv('DADOS_RS.csv')\n",
    "dados.head()"
   ]
  },
  {
   "cell_type": "markdown",
   "metadata": {},
   "source": [
    "### Pra começar tem aquele valor de SECA zoado ali. Vamo ver se tem mais algum valor de N_EVENTO zoado"
   ]
  },
  {
   "cell_type": "code",
   "execution_count": 55,
   "metadata": {},
   "outputs": [
    {
     "name": "stdout",
     "output_type": "stream",
     "text": [
      "['CHUVA EXCESSIVA' 'GRANIZO'\n",
      " 'SECA?????????????????????????????????????????' 'VENTO FORTE' 'VENTO FRIO'\n",
      " 'VARIACAO EXCESSIVA DE TEMPERATURA' 'GEADA' 'DOENCA OU PRAGA']\n"
     ]
    }
   ],
   "source": [
    "print(dados['N_EVENTO'].unique())"
   ]
  },
  {
   "cell_type": "markdown",
   "metadata": {},
   "source": [
    "### Só o SECA que parece zoado. Dá pra consertar ele de boa"
   ]
  },
  {
   "cell_type": "code",
   "execution_count": 56,
   "metadata": {},
   "outputs": [
    {
     "name": "stdout",
     "output_type": "stream",
     "text": [
      "['CHUVA EXCESSIVA' 'GRANIZO' 'SECA' 'VENTO FORTE' 'VENTO FRIO'\n",
      " 'VARIACAO EXCESSIVA DE TEMPERATURA' 'GEADA' 'DOENCA OU PRAGA']\n"
     ]
    }
   ],
   "source": [
    "dados.loc[dados['N_EVENTO'].str.startswith('SECA'), 'N_EVENTO'] = 'SECA'\n",
    "print(dados['N_EVENTO'].unique())"
   ]
  },
  {
   "cell_type": "markdown",
   "metadata": {},
   "source": [
    "Por via das dúvidas já vou salvar aqui esse dataset limpo. Quando você ver isso aqui, pode excluir o dataset velho"
   ]
  },
  {
   "cell_type": "code",
   "execution_count": 57,
   "metadata": {
    "collapsed": true
   },
   "outputs": [],
   "source": [
    "dados.to_csv('DADOS_RS2.csv')"
   ]
  },
  {
   "cell_type": "markdown",
   "metadata": {},
   "source": [
    "### Voltando aos sinistros. Vamo ver qualé deles"
   ]
  },
  {
   "cell_type": "code",
   "execution_count": 58,
   "metadata": {},
   "outputs": [
    {
     "data": {
      "text/plain": [
       "N_EVENTO\n",
       "SECA                                 1123\n",
       "CHUVA EXCESSIVA                       293\n",
       "VENTO FORTE                           235\n",
       "GRANIZO                                40\n",
       "DOENCA OU PRAGA                         6\n",
       "VARIACAO EXCESSIVA DE TEMPERATURA       5\n",
       "GEADA                                   4\n",
       "VENTO FRIO                              2\n",
       "dtype: int64"
      ]
     },
     "execution_count": 58,
     "metadata": {},
     "output_type": "execute_result"
    }
   ],
   "source": [
    "dados.groupby(['N_EVENTO']).size().sort_values(ascending = False)"
   ]
  },
  {
   "cell_type": "markdown",
   "metadata": {},
   "source": [
    "### Dá pra colocar mais informação nessa visão"
   ]
  },
  {
   "cell_type": "code",
   "execution_count": 73,
   "metadata": {},
   "outputs": [
    {
     "data": {
      "text/html": [
       "<div>\n",
       "<table border=\"1\" class=\"dataframe\">\n",
       "  <thead>\n",
       "    <tr>\n",
       "      <th></th>\n",
       "      <th colspan=\"2\" halign=\"left\">R$_RISCO</th>\n",
       "      <th colspan=\"2\" halign=\"left\">R$ SINISTRO</th>\n",
       "      <th>Z</th>\n",
       "      <th colspan=\"3\" halign=\"left\">R$ ADICIONAL</th>\n",
       "    </tr>\n",
       "    <tr>\n",
       "      <th></th>\n",
       "      <th>mean</th>\n",
       "      <th>sum</th>\n",
       "      <th>mean</th>\n",
       "      <th>sum</th>\n",
       "      <th>mean</th>\n",
       "      <th>mean</th>\n",
       "      <th>sum</th>\n",
       "      <th>count</th>\n",
       "    </tr>\n",
       "    <tr>\n",
       "      <th>N_EVENTO</th>\n",
       "      <th></th>\n",
       "      <th></th>\n",
       "      <th></th>\n",
       "      <th></th>\n",
       "      <th></th>\n",
       "      <th></th>\n",
       "      <th></th>\n",
       "      <th></th>\n",
       "    </tr>\n",
       "  </thead>\n",
       "  <tbody>\n",
       "    <tr>\n",
       "      <th>SECA</th>\n",
       "      <td>14025.008077</td>\n",
       "      <td>15750084.07</td>\n",
       "      <td>7597.205913</td>\n",
       "      <td>8531662.24</td>\n",
       "      <td>0.571216</td>\n",
       "      <td>280.500525</td>\n",
       "      <td>315002.09</td>\n",
       "      <td>1123</td>\n",
       "    </tr>\n",
       "    <tr>\n",
       "      <th>CHUVA EXCESSIVA</th>\n",
       "      <td>26498.284676</td>\n",
       "      <td>7763997.41</td>\n",
       "      <td>17041.091502</td>\n",
       "      <td>4993039.81</td>\n",
       "      <td>0.646630</td>\n",
       "      <td>498.857543</td>\n",
       "      <td>146165.26</td>\n",
       "      <td>293</td>\n",
       "    </tr>\n",
       "    <tr>\n",
       "      <th>VENTO FORTE</th>\n",
       "      <td>25072.437532</td>\n",
       "      <td>5892022.82</td>\n",
       "      <td>10661.011957</td>\n",
       "      <td>2505337.81</td>\n",
       "      <td>0.453858</td>\n",
       "      <td>501.449149</td>\n",
       "      <td>117840.55</td>\n",
       "      <td>235</td>\n",
       "    </tr>\n",
       "    <tr>\n",
       "      <th>GRANIZO</th>\n",
       "      <td>17373.308500</td>\n",
       "      <td>694932.34</td>\n",
       "      <td>7734.402000</td>\n",
       "      <td>309376.08</td>\n",
       "      <td>0.483991</td>\n",
       "      <td>347.466250</td>\n",
       "      <td>13898.65</td>\n",
       "      <td>40</td>\n",
       "    </tr>\n",
       "    <tr>\n",
       "      <th>DOENCA OU PRAGA</th>\n",
       "      <td>36327.515000</td>\n",
       "      <td>217965.09</td>\n",
       "      <td>6384.798333</td>\n",
       "      <td>38308.79</td>\n",
       "      <td>0.274924</td>\n",
       "      <td>388.073333</td>\n",
       "      <td>2328.44</td>\n",
       "      <td>6</td>\n",
       "    </tr>\n",
       "    <tr>\n",
       "      <th>VARIACAO EXCESSIVA DE TEMPERATURA</th>\n",
       "      <td>19259.298000</td>\n",
       "      <td>96296.49</td>\n",
       "      <td>4337.560000</td>\n",
       "      <td>21687.80</td>\n",
       "      <td>0.263320</td>\n",
       "      <td>311.186000</td>\n",
       "      <td>1555.93</td>\n",
       "      <td>5</td>\n",
       "    </tr>\n",
       "    <tr>\n",
       "      <th>GEADA</th>\n",
       "      <td>45828.832500</td>\n",
       "      <td>183315.33</td>\n",
       "      <td>30577.202500</td>\n",
       "      <td>122308.81</td>\n",
       "      <td>0.686704</td>\n",
       "      <td>916.575000</td>\n",
       "      <td>3666.30</td>\n",
       "      <td>4</td>\n",
       "    </tr>\n",
       "    <tr>\n",
       "      <th>VENTO FRIO</th>\n",
       "      <td>11950.000000</td>\n",
       "      <td>23900.00</td>\n",
       "      <td>5498.475000</td>\n",
       "      <td>10996.95</td>\n",
       "      <td>0.540694</td>\n",
       "      <td>239.000000</td>\n",
       "      <td>478.00</td>\n",
       "      <td>2</td>\n",
       "    </tr>\n",
       "  </tbody>\n",
       "</table>\n",
       "</div>"
      ],
      "text/plain": [
       "                                       R$_RISCO                R$ SINISTRO  \\\n",
       "                                           mean          sum          mean   \n",
       "N_EVENTO                                                                     \n",
       "SECA                               14025.008077  15750084.07   7597.205913   \n",
       "CHUVA EXCESSIVA                    26498.284676   7763997.41  17041.091502   \n",
       "VENTO FORTE                        25072.437532   5892022.82  10661.011957   \n",
       "GRANIZO                            17373.308500    694932.34   7734.402000   \n",
       "DOENCA OU PRAGA                    36327.515000    217965.09   6384.798333   \n",
       "VARIACAO EXCESSIVA DE TEMPERATURA  19259.298000     96296.49   4337.560000   \n",
       "GEADA                              45828.832500    183315.33  30577.202500   \n",
       "VENTO FRIO                         11950.000000     23900.00   5498.475000   \n",
       "\n",
       "                                                      Z R$ ADICIONAL  \\\n",
       "                                          sum      mean         mean   \n",
       "N_EVENTO                                                               \n",
       "SECA                               8531662.24  0.571216   280.500525   \n",
       "CHUVA EXCESSIVA                    4993039.81  0.646630   498.857543   \n",
       "VENTO FORTE                        2505337.81  0.453858   501.449149   \n",
       "GRANIZO                             309376.08  0.483991   347.466250   \n",
       "DOENCA OU PRAGA                      38308.79  0.274924   388.073333   \n",
       "VARIACAO EXCESSIVA DE TEMPERATURA    21687.80  0.263320   311.186000   \n",
       "GEADA                               122308.81  0.686704   916.575000   \n",
       "VENTO FRIO                           10996.95  0.540694   239.000000   \n",
       "\n",
       "                                                    \n",
       "                                         sum count  \n",
       "N_EVENTO                                            \n",
       "SECA                               315002.09  1123  \n",
       "CHUVA EXCESSIVA                    146165.26   293  \n",
       "VENTO FORTE                        117840.55   235  \n",
       "GRANIZO                             13898.65    40  \n",
       "DOENCA OU PRAGA                      2328.44     6  \n",
       "VARIACAO EXCESSIVA DE TEMPERATURA    1555.93     5  \n",
       "GEADA                                3666.30     4  \n",
       "VENTO FRIO                            478.00     2  "
      ]
     },
     "execution_count": 73,
     "metadata": {},
     "output_type": "execute_result"
    }
   ],
   "source": [
    "dados.groupby(['N_EVENTO']).aggregate({'R$ ADICIONAL': [np.mean,np.sum, 'count'], 'R$ SINISTRO': [np.mean,np.sum], 'R$_RISCO': [np.mean,np.sum], 'Z': np.mean}).sort_values(by = ('R$ ADICIONAL', 'count'), ascending = False)"
   ]
  },
  {
   "cell_type": "markdown",
   "metadata": {},
   "source": [
    "### Dá pra achar algum sentido pra os valores variarem tanto entre os tipos de sinistro?"
   ]
  },
  {
   "cell_type": "code",
   "execution_count": null,
   "metadata": {
    "collapsed": true
   },
   "outputs": [],
   "source": []
  }
 ],
 "metadata": {
  "kernelspec": {
   "display_name": "Python 3",
   "language": "python",
   "name": "python3"
  },
  "language_info": {
   "codemirror_mode": {
    "name": "ipython",
    "version": 3
   },
   "file_extension": ".py",
   "mimetype": "text/x-python",
   "name": "python",
   "nbconvert_exporter": "python",
   "pygments_lexer": "ipython3",
   "version": "3.5.1"
  }
 },
 "nbformat": 4,
 "nbformat_minor": 2
}
